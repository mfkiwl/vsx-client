{
 "cells": [
  {
   "cell_type": "markdown",
   "metadata": {},
   "source": [
    "# Impact of Result Count on Latency\n",
    "In addition to the time taken to calculate distances between a query vector and all of the reference vectors, there is a very small amount of time added for each result that must be returned by the hardware (about 20us per result).\n",
    "\n",
    "In this notebook we'll perform an experiment using the MNIST dataset to determine the relationship between the number of results returned in a distance threshold query with the total latency of the query. For instance, how much slower is a query that returns 1,000 results versus a query that returns only a single result?\n",
    "\n",
    "First, we need to establish a connection to the Nearist appliance, set the results filtering mode, and load our local query vectors. \n",
    "\n",
    "_Make sure to fill in your API key, server IP address, etc._"
   ]
  },
  {
   "cell_type": "code",
   "execution_count": 7,
   "metadata": {},
   "outputs": [
    {
     "name": "stdout",
     "output_type": "stream",
     "text": [
      "Connecting to Nearist board...\n",
      "    Connection successful.\n",
      "\n",
      "Loading local query vectors...\n"
     ]
    }
   ],
   "source": [
    "from __future__ import division\n",
    "\n",
    "import Client\n",
    "import Common\n",
    "\n",
    "import h5py\n",
    "import time\n",
    "import pandas as pd\n",
    "import seaborn as sns\n",
    "from sklearn.linear_model import LinearRegression\n",
    "import numpy as np\n",
    "\n",
    "# IMPORTANT - Fill in these configuration values.\n",
    "path_to_local_dataset = '../MNIST/data/X_test_uint8.h5'\n",
    "api_key = \"\"\n",
    "ip_addr = \"\"\n",
    "port = -1\n",
    "\n",
    "print 'Connecting to Nearist board...'\n",
    "sys.stdout.flush()\n",
    "\n",
    "# Open the connection to the server.\n",
    "c = Client.Client()\n",
    "c.open(ip_addr, port, api_key)\n",
    "\n",
    "print '    Connection successful.'\n",
    "sys.stdout.flush()\n",
    "\n",
    "# Use L1 distance.\n",
    "c.set_distance_mode(Common.DistanceMode.L1)\n",
    "\n",
    "# For thresholded L1 distance, we use the less-than mode.\n",
    "c.set_query_mode(Common.QueryMode.LT)\n",
    "\n",
    "# Load query vectors on your machine.\n",
    "print '\\nLoading local query vectors...'\n",
    "sys.stdout.flush()\n",
    "\n",
    "h5f = h5py.File(path_to_local_dataset, 'r')\n",
    "X_test = h5f['X_test'][:]"
   ]
  },
  {
   "cell_type": "markdown",
   "metadata": {},
   "source": [
    "### Dataset Load\n",
    "Load the dataset, which is already present on the hard disk of the remote server. \n",
    "Note that you only need to do this once, and can skip this step if the dataset is already loaded."
   ]
  },
  {
   "cell_type": "code",
   "execution_count": 8,
   "metadata": {},
   "outputs": [
    {
     "name": "stdout",
     "output_type": "stream",
     "text": [
      "\n",
      "Starting remote load of dataset...\n",
      "Dataset load speed:\n",
      "   Total time: 17.8 seconds\n",
      "   Appliance time: 16.7 seconds (3.38 MB / second)\n"
     ]
    }
   ],
   "source": [
    "print '\\nStarting remote load of dataset...'\n",
    "sys.stdout.flush()\n",
    "\n",
    "# Load 56.3 MB dataset already on Nearist server\n",
    "t0 = time.time()\n",
    "\n",
    "# Reset the appliance timer.    \n",
    "c.reset_timer()\n",
    "\n",
    "c.load_dataset_file(file_name='/nearist/MNIST/X_train_uint8.h5', dataset_name='X_train')\n",
    "\n",
    "# Get the elapsed appliance time. Convert from nanoseconds to seconds.\n",
    "appliance_time_s = c.get_timer_value() / 10**9     \n",
    "\n",
    "elapsed = time.time() - t0\n",
    "\n",
    "print 'Dataset load speed:'\n",
    "print '   Total time: %.1f seconds' % elapsed\n",
    "print '   Appliance time: %.1f seconds (%.2f MB / second)' % (appliance_time_s, (56.3 / appliance_time_s))\n",
    "sys.stdout.flush()\n"
   ]
  },
  {
   "cell_type": "markdown",
   "metadata": {},
   "source": [
    "### Measure Query Latencies\n",
    "We'll perform a handful of queries with different threshold values, and record both the \"appliance time\" (the time required by the Nearist appliance, without the internet overhead) and the \"wall time\" (the total elapsed time, including internet overhead). \n",
    "We've previously identified a number of specific query vectors from this dataset which return results at these threshold values."
   ]
  },
  {
   "cell_type": "code",
   "execution_count": 14,
   "metadata": {},
   "outputs": [
    {
     "name": "stdout",
     "output_type": "stream",
     "text": [
      "\n",
      "========= Query 0 =========\n",
      "At threshold  6000,    1 results, appliance 5 ms, wall 115ms\n",
      "At threshold  7000,    3 results, appliance 5 ms, wall 101ms\n",
      "At threshold  8000,   21 results, appliance 5 ms, wall 100ms\n",
      "At threshold  9000,   68 results, appliance 6 ms, wall 106ms\n",
      "\n",
      "========= Query 2 =========\n",
      "At threshold  5000,   15 results, appliance 5 ms, wall 116ms\n",
      "At threshold  6000,   72 results, appliance 6 ms, wall 99ms\n",
      "At threshold  7000,  164 results, appliance 8 ms, wall 104ms\n",
      "At threshold  8000,  352 results, appliance 12 ms, wall 112ms\n",
      "At threshold  9000,  703 results, appliance 21 ms, wall 138ms\n",
      "\n",
      "========= Query 5 =========\n",
      "At threshold  5000,   19 results, appliance 5 ms, wall 110ms\n",
      "At threshold  6000,   70 results, appliance 6 ms, wall 97ms\n",
      "At threshold  7000,  211 results, appliance 10 ms, wall 114ms\n",
      "At threshold  8000,  436 results, appliance 13 ms, wall 115ms\n",
      "At threshold  9000,  788 results, appliance 23 ms, wall 134ms\n",
      "\n",
      "========= Query 14 =========\n",
      "At threshold  7000,   12 results, appliance 5 ms, wall 91ms\n",
      "At threshold  8000,   86 results, appliance 7 ms, wall 101ms\n",
      "At threshold  9000,  292 results, appliance 11 ms, wall 133ms\n",
      "\n",
      "========= Query 29 =========\n",
      "At threshold  5000,    3 results, appliance 5 ms, wall 126ms\n",
      "At threshold  6000,   14 results, appliance 5 ms, wall 100ms\n",
      "At threshold  7000,   46 results, appliance 5 ms, wall 95ms\n",
      "At threshold  8000,  139 results, appliance 7 ms, wall 108ms\n",
      "At threshold  9000,  342 results, appliance 12 ms, wall 106ms\n",
      "\n",
      "========= Query 31 =========\n",
      "At threshold  5000,    2 results, appliance 5 ms, wall 103ms\n",
      "At threshold  6000,   18 results, appliance 5 ms, wall 104ms\n",
      "At threshold  7000,   76 results, appliance 6 ms, wall 106ms\n",
      "At threshold  8000,  163 results, appliance 8 ms, wall 109ms\n",
      "At threshold  9000,  332 results, appliance 11 ms, wall 109ms\n",
      "\n",
      "========= Query 39 =========\n",
      "At threshold  5000,    1 results, appliance 5 ms, wall 94ms\n",
      "At threshold  6000,    9 results, appliance 5 ms, wall 103ms\n",
      "At threshold  7000,   42 results, appliance 6 ms, wall 97ms\n",
      "At threshold  8000,  158 results, appliance 8 ms, wall 103ms\n",
      "At threshold  9000,  398 results, appliance 12 ms, wall 119ms\n",
      "\n",
      "========= Query 40 =========\n",
      "At threshold  5000,    1 results, appliance 5 ms, wall 101ms\n",
      "At threshold  6000,    5 results, appliance 5 ms, wall 92ms\n",
      "At threshold  7000,   20 results, appliance 5 ms, wall 115ms\n",
      "At threshold  8000,   55 results, appliance 6 ms, wall 101ms\n",
      "At threshold  9000,  151 results, appliance 8 ms, wall 108ms\n",
      "\n",
      "========= Query 57 =========\n",
      "At threshold  5000,    4 results, appliance 5 ms, wall 101ms\n",
      "At threshold  6000,   28 results, appliance 5 ms, wall 95ms\n",
      "At threshold  7000,  104 results, appliance 7 ms, wall 98ms\n",
      "At threshold  8000,  311 results, appliance 11 ms, wall 97ms\n",
      "At threshold  9000,  659 results, appliance 19 ms, wall 128ms\n",
      "\n",
      "========= Query 74 =========\n",
      "At threshold  5000,    4 results, appliance 5 ms, wall 106ms\n",
      "At threshold  6000,   15 results, appliance 5 ms, wall 100ms\n",
      "At threshold  7000,   48 results, appliance 6 ms, wall 93ms\n",
      "At threshold  8000,  161 results, appliance 8 ms, wall 101ms\n",
      "At threshold  9000,  379 results, appliance 13 ms, wall 130ms\n",
      "\n",
      "========= Query 83 =========\n",
      "At threshold  7000,    2 results, appliance 5 ms, wall 95ms\n",
      "At threshold  8000,    7 results, appliance 5 ms, wall 95ms\n",
      "At threshold  9000,   31 results, appliance 6 ms, wall 106ms\n",
      "\n",
      "========= Query 89 =========\n",
      "At threshold  6000,    6 results, appliance 5 ms, wall 100ms\n",
      "At threshold  7000,   48 results, appliance 6 ms, wall 96ms\n",
      "At threshold  8000,  143 results, appliance 8 ms, wall 102ms\n",
      "At threshold  9000,  361 results, appliance 14 ms, wall 108ms\n"
     ]
    }
   ],
   "source": [
    "result_counts = []\n",
    "appliance_times = []\n",
    "wall_times = []\n",
    "\n",
    "# These are some specific query vectors which have results in these threshold \n",
    "# ranges.\n",
    "for i in [0, 2, 5, 14, 29, 31, 39, 40, 57, 74, 83, 89]:\n",
    "\n",
    "    # Get the query vector.\n",
    "    test_vec = X_test[i].tolist()\n",
    "\n",
    "    print '\\n========= Query %d =========' % i\n",
    "    sys.stdout.flush()\n",
    "    \n",
    "    # Try different threshold values.\n",
    "    for threshold in [5000, 6000, 7000, 8000, 9000]:\n",
    "        \n",
    "        c.set_threshold(threshold)\n",
    "        \n",
    "        t0 = time.time()\n",
    "        \n",
    "        # Reset the appliance timer.    \n",
    "        c.reset_timer()\n",
    "    \n",
    "        # Submit the query\n",
    "        results = c.query(test_vec)\n",
    "        \n",
    "        # Calculate the total elapsed time in miliseconds.\n",
    "        wall_time_ms = (time.time() - t0) * 1000\n",
    "        \n",
    "        # Get the elapsed appliance time. Convert from nanoseconds to milliseconds.\n",
    "        appliance_time_ms = c.get_timer_value() / 10**6     \n",
    "\n",
    "        # Only record data points with at least 1 result.\n",
    "        if len(results) > 0:    \n",
    "            print 'At threshold %5d, %4d results, appliance %.0f ms, wall %.0fms' % (threshold, len(results), appliance_time_ms, wall_time_ms)\n",
    "    \n",
    "            # Track the timing values.\n",
    "            result_counts.append(len(results))\n",
    "            wall_times.append(wall_time_ms)   \n",
    "            appliance_times.append(appliance_time_ms)"
   ]
  },
  {
   "cell_type": "markdown",
   "metadata": {},
   "source": [
    "### Analyze Appliance Latency Trend\n",
    "Plot the time spent on the appliance as a function of result count. This will show us how result count impacts the appliance latency. The seaborn `regplot` function will show the scatter plot and a fitted line.\n",
    "\n",
    "`regplot` doesn't return the parameters for the fitted line, so we'll use the LinearRegression class from sklearn to calculate the slope and intercept. The intercept is the minimum latency from the appliance due to distance calculations and overhead with 0 results returned. The slope tells us how much latency each additional result adds."
   ]
  },
  {
   "cell_type": "code",
   "execution_count": 15,
   "metadata": {},
   "outputs": [
    {
     "name": "stdout",
     "output_type": "stream",
     "text": [
      "Intercept: 4.69 ms\n",
      "Slope: 0.022 ms / result\n"
     ]
    },
    {
     "data": {
      "image/png": "[encoded data removed]",
      "text/plain": [
       "<matplotlib.figure.Figure at 0x1101e160>"
      ]
     },
     "metadata": {},
     "output_type": "display_data"
    }
   ],
   "source": [
    "%matplotlib inline\n",
    "\n",
    "# Plot the result counts and latencies as a scatter plot with a fitted line.\n",
    "df = pd.DataFrame(\n",
    "    {'Result_Counts': result_counts,\n",
    "     'Appliance_Times': appliance_times\n",
    "    })\n",
    "    \n",
    "sns.regplot(x='Result_Counts', y='Appliance_Times', data=df)\n",
    "\n",
    "# Use the LinearRegression class to estimate the slope and intercept for this\n",
    "# data.\n",
    "lr = LinearRegression()\n",
    "lr.fit(X=np.array(result_counts).reshape(len(result_counts), 1), y=np.array(appliance_times))\n",
    "\n",
    "# The intercept is essentially a minimum latency for the appliance due to\n",
    "# overhead. The slope shows the relationship between result count and added\n",
    "# latency.\n",
    "print 'Intercept: %.2f ms' % lr.intercept_\n",
    "print 'Slope: %.3f ms / result' % lr.coef_[0]"
   ]
  },
  {
   "cell_type": "markdown",
   "metadata": {},
   "source": [
    "### Analyze Internet Overhead\n",
    "The internet adds additional latency to these queries. The bulk of this overhead is in the ping time, with a small amount added per result transferred back."
   ]
  },
  {
   "cell_type": "code",
   "execution_count": 16,
   "metadata": {},
   "outputs": [
    {
     "name": "stdout",
     "output_type": "stream",
     "text": [
      "Intercept: 95.63 ms\n",
      "Slope: 0.020 ms / result\n"
     ]
    },
    {
     "data": {
      "image/png": "[encoded data removed]",
      "text/plain": [
       "<matplotlib.figure.Figure at 0x114b3320>"
      ]
     },
     "metadata": {},
     "output_type": "display_data"
    }
   ],
   "source": [
    "# Subtract the appliance time from the wall time to measure the internet overhead for these queries.\n",
    "overhead_times = np.array(wall_times) - np.array(appliance_times)\n",
    "\n",
    "# Plot the result counts and latencies as a scatter plot with a fitted line.\n",
    "df = pd.DataFrame(\n",
    "    {'Result_Counts': result_counts,\n",
    "     'Overhead_Times': overhead_times\n",
    "    })\n",
    "    \n",
    "sns.regplot(x='Result_Counts', y='Overhead_Times', data=df)\n",
    "\n",
    "# Use the LinearRegression class to estimate the slope and intercept for this\n",
    "# data.\n",
    "lr = LinearRegression()\n",
    "lr.fit(X=np.array(result_counts).reshape(len(result_counts), 1), y=np.array(overhead_times))\n",
    "\n",
    "# The intercept captures the ping time plus the transfer of the query vector,\n",
    "# and the slope shows the time added for each additional result transfered back.\n",
    "print 'Intercept: %.2f ms' % lr.intercept_\n",
    "print 'Slope: %.3f ms / result' % lr.coef_[0]"
   ]
  },
  {
   "cell_type": "code",
   "execution_count": null,
   "metadata": {
    "collapsed": true
   },
   "outputs": [],
   "source": []
  }
 ],
 "metadata": {
  "kernelspec": {
   "display_name": "Python 2",
   "language": "python",
   "name": "python2"
  },
  "language_info": {
   "codemirror_mode": {
    "name": "ipython",
    "version": 2
   },
   "file_extension": ".py",
   "mimetype": "text/x-python",
   "name": "python",
   "nbconvert_exporter": "python",
   "pygments_lexer": "ipython2",
   "version": "2.7.14"
  }
 },
 "nbformat": 4,
 "nbformat_minor": 2
}
